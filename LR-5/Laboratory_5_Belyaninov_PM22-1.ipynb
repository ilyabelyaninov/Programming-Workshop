{
 "cells": [
  {
   "cell_type": "markdown",
   "id": "ec418fbe",
   "metadata": {},
   "source": [
    "# Упражнение 1. Работа с файловой системой"
   ]
  },
  {
   "cell_type": "markdown",
   "id": "70c69f43",
   "metadata": {},
   "source": [
    "*Написать скрипт для создания новой директории. Пусть скрипт принимает имя директории от пользователя и создает ее в указанном месте. Если директория уже существует, скрипт должен сообщить об этом.\n",
    "\n",
    "*Написать функцию для перечисления всех файлов в данной директории и всех ее поддиректориях. Функция должна выводить абсолютные пути файлов"
   ]
  },
  {
   "cell_type": "code",
   "execution_count": 1,
   "id": "51fd58e0",
   "metadata": {},
   "outputs": [],
   "source": [
    "import os"
   ]
  },
  {
   "cell_type": "code",
   "execution_count": 2,
   "id": "66159cdc",
   "metadata": {},
   "outputs": [
    {
     "name": "stdout",
     "output_type": "stream",
     "text": [
      "C:\\Users\\Ilya\\LR-5new_directory\n"
     ]
    }
   ],
   "source": [
    "directory = input(r\"C:\\Users\\Ilya\\LR-5\")"
   ]
  },
  {
   "cell_type": "code",
   "execution_count": 3,
   "id": "7b25213b",
   "metadata": {},
   "outputs": [
    {
     "data": {
      "text/plain": [
       "'new_directory'"
      ]
     },
     "execution_count": 3,
     "metadata": {},
     "output_type": "execute_result"
    }
   ],
   "source": [
    "directory"
   ]
  },
  {
   "cell_type": "code",
   "execution_count": 4,
   "id": "aa66ee17",
   "metadata": {},
   "outputs": [
    {
     "name": "stdout",
     "output_type": "stream",
     "text": [
      "Директория new_directory создана\n"
     ]
    }
   ],
   "source": [
    "if os.path.exists(directory):\n",
    "    print(\"Директория уже существует\")\n",
    "else:\n",
    "    os.makedirs(directory)\n",
    "    print(f\"Директория {directory} создана\")"
   ]
  },
  {
   "cell_type": "code",
   "execution_count": 5,
   "id": "2da90f56",
   "metadata": {},
   "outputs": [],
   "source": [
    "def list_files(directory):\n",
    "    for root, dirs, files in os.walk(directory):\n",
    "        for file in files:\n",
    "            print(os.path.join(root, file))"
   ]
  },
  {
   "cell_type": "code",
   "execution_count": 6,
   "id": "5cb98ec1",
   "metadata": {},
   "outputs": [
    {
     "name": "stdout",
     "output_type": "stream",
     "text": [
      "C:\\Users\\Ilya\\LR-5new_directory\n"
     ]
    }
   ],
   "source": [
    "directory = input(r\"C:\\Users\\Ilya\\LR-5\")\n",
    "list_files(directory)"
   ]
  },
  {
   "cell_type": "code",
   "execution_count": 7,
   "id": "be055bfe",
   "metadata": {},
   "outputs": [
    {
     "name": "stdout",
     "output_type": "stream",
     "text": [
      "new_directory\\untitled.txt\n"
     ]
    }
   ],
   "source": [
    "list_files(directory)"
   ]
  },
  {
   "cell_type": "markdown",
   "id": "8dfe2fc8",
   "metadata": {},
   "source": [
    "# Упражнение 2. Работа с процессами"
   ]
  },
  {
   "cell_type": "markdown",
   "id": "c1f9430a",
   "metadata": {},
   "source": [
    "*Написать скрипт для запуска внешних команд или программ. Пусть скрипт запускает команду ping для проверки доступности какого-либо ресурса в сети, например, google.com. Результат выполнения команды должен быть выведен пользователю.\n",
    "\n",
    "*Исследовать возможности модуля subprocess. Написать скрипт, который выполняет команду ls (для Unix/Linux) или dir (для Windows) и обрабатывает результат: выводит количество файлов в директории."
   ]
  },
  {
   "cell_type": "code",
   "execution_count": 8,
   "id": "c5352d5e",
   "metadata": {},
   "outputs": [],
   "source": [
    "import subprocess"
   ]
  },
  {
   "cell_type": "code",
   "execution_count": 9,
   "id": "79ba282d",
   "metadata": {},
   "outputs": [
    {
     "data": {
      "text/plain": [
       "CompletedProcess(args=['ping', '-n', '4', 'google.com'], returncode=0)"
      ]
     },
     "execution_count": 9,
     "metadata": {},
     "output_type": "execute_result"
    }
   ],
   "source": [
    "subprocess.run([\"ping\", \"-n\", \"4\", \"google.com\"])"
   ]
  },
  {
   "cell_type": "code",
   "execution_count": 10,
   "id": "e1db524b",
   "metadata": {},
   "outputs": [
    {
     "name": "stdout",
     "output_type": "stream",
     "text": [
      " Том в устройстве C не имеет метки.\n",
      " Серийный номер тома: 7E5F-E41D\n",
      "\n",
      " Содержимое папки C:\\Users\\Ilya\\LR-5\n",
      "\n",
      "01.05.2024  14:46    <DIR>          .\n",
      "01.05.2024  14:19    <DIR>          ..\n",
      "01.05.2024  14:44    <DIR>          .ipynb_checkpoints\n",
      "01.05.2024  14:45            25 386 Laboratory_5_Belyaninov_PM22-1.ipynb\n",
      "01.05.2024  14:46    <DIR>          new_directory\n",
      "               1 файлов         25 386 байт\n",
      "               4 папок  229 482 332 160 байт свободно\n",
      "\n",
      "Количество элементов: 12\n"
     ]
    }
   ],
   "source": [
    "try:\n",
    "    output = subprocess.check_output(\"dir\", shell=True, text=True, encoding='cp866')\n",
    "    print(output)\n",
    "    files = output.strip().split('\\n')\n",
    "    print(f\"Количество элементов: {len(files)}\")\n",
    "except subprocess.CalledProcessError as e:\n",
    "    print(f\"Ошибка выполнения команды: {e}\")"
   ]
  },
  {
   "cell_type": "code",
   "execution_count": 11,
   "id": "4e653ecd",
   "metadata": {},
   "outputs": [
    {
     "name": "stdout",
     "output_type": "stream",
     "text": [
      "Количество файлов: 12\n"
     ]
    }
   ],
   "source": [
    "files = output.strip().split('\\n')\n",
    "print(f\"Количество файлов: {len(files)}\")"
   ]
  },
  {
   "cell_type": "markdown",
   "id": "b998a3d2",
   "metadata": {},
   "source": [
    "# Упражнение 3. Работа с сетями"
   ]
  },
  {
   "cell_type": "markdown",
   "id": "47b6a027",
   "metadata": {},
   "source": [
    "*Написать скрипт для проверки доступности веб-сайта. Скрипт должен отправлять HTTP-запрос к выбранному веб-сайту и выводить статус-код ответа.\n",
    "\n",
    "*Изучить модуль socket. Написать скрипт, который подключается к серверу по заданному адресу и порту, отправляет простое текстовое сообщение и получает ответ."
   ]
  },
  {
   "cell_type": "code",
   "execution_count": 12,
   "id": "33ac3f37",
   "metadata": {},
   "outputs": [],
   "source": [
    "import requests\n",
    "import time"
   ]
  },
  {
   "cell_type": "code",
   "execution_count": 13,
   "id": "1ada412f",
   "metadata": {},
   "outputs": [
    {
     "name": "stdout",
     "output_type": "stream",
     "text": [
      "Статус-код: 200\n"
     ]
    }
   ],
   "source": [
    "response = requests.get(\"http://www.google.com\")\n",
    "print(f\"Статус-код: {response.status_code}\")"
   ]
  },
  {
   "cell_type": "code",
   "execution_count": 14,
   "id": "23bed400",
   "metadata": {},
   "outputs": [],
   "source": [
    "start_time = time.time()\n",
    "response = requests.get(\"http://www.google.com\")\n",
    "end_time = time.time()"
   ]
  },
  {
   "cell_type": "code",
   "execution_count": 15,
   "id": "af712c36",
   "metadata": {},
   "outputs": [
    {
     "name": "stdout",
     "output_type": "stream",
     "text": [
      "Статус-код: 200\n",
      "Тип содержимого: text/html; charset=ISO-8859-1\n",
      "Размер контента: 8835 байт\n",
      "Время ответа: 0.09588170051574707 секунд\n"
     ]
    }
   ],
   "source": [
    "print(f\"Статус-код: {response.status_code}\")\n",
    "print(f\"Тип содержимого: {response.headers.get('Content-Type')}\")\n",
    "print(f\"Размер контента: {response.headers.get('Content-Length')} байт\")\n",
    "print(f\"Время ответа: {end_time - start_time} секунд\")"
   ]
  },
  {
   "cell_type": "code",
   "execution_count": 16,
   "id": "b7e8c91c",
   "metadata": {},
   "outputs": [],
   "source": [
    "import socket"
   ]
  },
  {
   "cell_type": "code",
   "execution_count": 17,
   "id": "c7f10b38",
   "metadata": {},
   "outputs": [],
   "source": [
    "host = 'google.com'\n",
    "port = 80"
   ]
  },
  {
   "cell_type": "code",
   "execution_count": 18,
   "id": "3afaa0da",
   "metadata": {},
   "outputs": [],
   "source": [
    "request = f\"GET / HTTP/1.1\\r\\nHost: {host}\\r\\nConnection: close\\r\\n\\r\\n\""
   ]
  },
  {
   "cell_type": "code",
   "execution_count": 19,
   "id": "4e528ffe",
   "metadata": {},
   "outputs": [],
   "source": [
    "with socket.socket(socket.AF_INET, socket.SOCK_STREAM) as s:\n",
    "    s.connect((host, port))\n",
    "\n",
    "    s.sendall(request.encode())\n",
    "\n",
    "    response = \"\"\n",
    "    while True:\n",
    "        part = s.recv(4096).decode()\n",
    "        if not part:\n",
    "            break\n",
    "        response += part"
   ]
  },
  {
   "cell_type": "code",
   "execution_count": 20,
   "id": "367c47a4",
   "metadata": {},
   "outputs": [
    {
     "name": "stdout",
     "output_type": "stream",
     "text": [
      "Статус-код: 301\n",
      "Заголовки ответа:\n",
      "Location: http://www.google.com/\n",
      "Content-Type: text/html; charset=UTF-8\n",
      "Content-Security-Policy-Report-Only: object-src 'none';base-uri 'self';script-src 'nonce-MKGiM6F0jzd_zHt8qdy1gA' 'strict-dynamic' 'report-sample' 'unsafe-eval' 'unsafe-inline' https: http:;report-uri https://csp.withgoogle.com/csp/gws/other-hp\n",
      "Date: Wed, 01 May 2024 11:46:42 GMT\n",
      "Expires: Fri, 31 May 2024 11:46:42 GMT\n",
      "Cache-Control: public, max-age=2592000\n",
      "Server: gws\n",
      "Content-Length: 219\n",
      "X-XSS-Protection: 0\n",
      "X-Frame-Options: SAMEORIGIN\n",
      "Connection: close\n"
     ]
    }
   ],
   "source": [
    "headers, _, body = response.partition('\\r\\n\\r\\n')\n",
    "status_line = headers.splitlines()[0]\n",
    "status_code = status_line.split(' ')[1]\n",
    "\n",
    "print(f\"Статус-код: {status_code}\")\n",
    "print(\"Заголовки ответа:\")\n",
    "print('\\n'.join(headers.splitlines()[1:]))"
   ]
  },
  {
   "cell_type": "markdown",
   "id": "52ce6a16",
   "metadata": {},
   "source": [
    "# Упражнение 4. Работа с системной информацией"
   ]
  },
  {
   "cell_type": "markdown",
   "id": "1ac9db6d",
   "metadata": {},
   "source": [
    "*Написать скрипт для отображения информации о системе. Скрипт должен выводить информацию о текущей операционной системе, версии Python, а также объем свободной и занятой памяти на диске.\n",
    "\n",
    "*Исследование модуля os. Написать функции для получения и вывода текущего рабочего каталога, изменения рабочего каталога и вывода списка всех переменных окружения."
   ]
  },
  {
   "cell_type": "code",
   "execution_count": 21,
   "id": "64172492",
   "metadata": {},
   "outputs": [],
   "source": [
    "import os, platform, psutil"
   ]
  },
  {
   "cell_type": "code",
   "execution_count": 22,
   "id": "07153a41",
   "metadata": {},
   "outputs": [
    {
     "name": "stdout",
     "output_type": "stream",
     "text": [
      "ОС: Windows 10\n",
      "Версия Python: 3.9.19\n",
      "Свободно на диске: 213.72 GB\n"
     ]
    }
   ],
   "source": [
    "print(f\"ОС: {platform.system()} {platform.release()}\")\n",
    "print(f\"Версия Python: {platform.python_version()}\")\n",
    "print(f\"Свободно на диске: {psutil.disk_usage('/').free / (1024**3):.2f} GB\")"
   ]
  },
  {
   "cell_type": "code",
   "execution_count": 23,
   "id": "81484435",
   "metadata": {},
   "outputs": [
    {
     "name": "stdout",
     "output_type": "stream",
     "text": [
      "Текущий рабочий каталог: C:\\Users\\Ilya\\LR-5\n"
     ]
    }
   ],
   "source": [
    "print(f\"Текущий рабочий каталог: {os.getcwd()}\")"
   ]
  },
  {
   "cell_type": "code",
   "execution_count": 24,
   "id": "ba4a00bd",
   "metadata": {},
   "outputs": [
    {
     "name": "stdout",
     "output_type": "stream",
     "text": [
      "Новый рабочий каталог: C:\\Users\\Ilya\\LR-5\\new_directory\n"
     ]
    }
   ],
   "source": [
    "os.chdir(r'C:\\Users\\Ilya\\LR-5\\new_directory')\n",
    "print(f\"Новый рабочий каталог: {os.getcwd()}\")"
   ]
  },
  {
   "cell_type": "code",
   "execution_count": 25,
   "id": "8f101ffd",
   "metadata": {},
   "outputs": [
    {
     "name": "stdout",
     "output_type": "stream",
     "text": [
      "Переменные окружения:\n",
      "ALLUSERSPROFILE: C:\\ProgramData\n",
      "APPDATA: C:\\Users\\Ilya\\AppData\\Roaming\n",
      "COMMONPROGRAMFILES: C:\\Program Files\\Common Files\n",
      "COMMONPROGRAMFILES(X86): C:\\Program Files (x86)\\Common Files\n",
      "COMMONPROGRAMW6432: C:\\Program Files\\Common Files\n",
      "COMPUTERNAME: DESKTOP-I6POBR3\n",
      "COMSPEC: C:\\Windows\\system32\\cmd.exe\n",
      "CUDA_PATH: C:\\Program Files\\NVIDIA GPU Computing Toolkit\\CUDA\\v12.4\n",
      "CUDA_PATH_V12_4: C:\\Program Files\\NVIDIA GPU Computing Toolkit\\CUDA\\v12.4\n",
      "CUDNN: C:\\Program Files\\NVIDIA GPU Computing Toolkit\\CUDA\\v12.4;C:\\Program Files\\NVIDIA GPU Computing Toolkit\\CUDA\\v12.4\\bin;C:\\Program Files\\NVIDIA GPU Computing Toolkit\\CUDA\\v12.4\\include;C:\\Program Files\\NVIDIA GPU Computing Toolkit\\CUDA\\v12.4\\lib;C:\\Program Files\\NVIDIA GPU Computing Toolkit\\CUDA\\v12.4\\lib\\x64;\n",
      "DRIVERDATA: C:\\Windows\\System32\\Drivers\\DriverData\n",
      "EFC_15136: 1\n",
      "FPS_BROWSER_APP_PROFILE_STRING: Internet Explorer\n",
      "FPS_BROWSER_USER_PROFILE_STRING: Default\n",
      "HOMEDRIVE: C:\n",
      "HOMEPATH: \\Users\\Ilya\n",
      "LOCALAPPDATA: C:\\Users\\Ilya\\AppData\\Local\n",
      "LOGONSERVER: \\\\DESKTOP-I6POBR3\n",
      "NUMBER_OF_PROCESSORS: 12\n",
      "ONEDRIVE: C:\\Users\\Ilya\\OneDrive\n",
      "OS: Windows_NT\n",
      "PATH: C:\\Users\\Ilya\\anaconda3;C:\\Users\\Ilya\\anaconda3\\Library\\mingw-w64\\bin;C:\\Users\\Ilya\\anaconda3\\Library\\usr\\bin;C:\\Users\\Ilya\\anaconda3\\Library\\bin;C:\\Users\\Ilya\\anaconda3\\Scripts;C:\\Program Files\\NVIDIA GPU Computing Toolkit\\CUDA\\v12.4\\bin;C:\\Program Files\\NVIDIA GPU Computing Toolkit\\CUDA\\v12.4\\libnvvp;C:\\Windows\\system32;C:\\Windows;C:\\Windows\\System32\\Wbem;C:\\Windows\\System32\\WindowsPowerShell\\v1.0\\;C:\\Windows\\System32\\OpenSSH\\;C:\\Program Files (x86)\\NVIDIA Corporation\\PhysX\\Common;C:\\Program Files\\NVIDIA Corporation\\NVIDIA NvDLISR;C:\\Program Files\\PostgreSQL\\16\\bin;C:\\Program Files\\Git\\cmd;C:\\Program Files\\Azure Data Studio\\bin;C:\\Program Files (x86)\\Microsoft SQL Server\\160\\DTS\\Binn\\;C:\\Program Files (x86)\\Microsoft SQL Server\\160\\Tools\\Binn\\;C:\\Program Files\\Microsoft SQL Server\\160\\Tools\\Binn\\;C:\\Program Files\\Microsoft SQL Server\\Client SDK\\ODBC\\170\\Tools\\Binn\\;C:\\Program Files\\Microsoft SQL Server\\160\\DTS\\Binn\\;C:\\Program Files\\NVIDIA Corporation\\Nsight Compute 2024.1.1\\;C:\\Program Files\\NVIDIA GPU Computing Toolkit\\CUDA\\v12.4;C:\\Program Files\\NVIDIA GPU Computing Toolkit\\CUDA\\v12.4\\include;C:\\Program Files\\NVIDIA GPU Computing Toolkit\\CUDA\\v12.4\\lib;C:\\Program Files\\NVIDIA GPU Computing Toolkit\\CUDA\\v12.4\\lib\\x64;C:\\Users\\Ilya\\AppData\\Local\\Programs\\Python\\Python38\\Scripts\\;C:\\Users\\Ilya\\AppData\\Local\\Programs\\Python\\Python38\\;C:\\Users\\Ilya\\AppData\\Local\\Programs\\Python\\Python311\\Scripts\\;C:\\Users\\Ilya\\AppData\\Local\\Programs\\Python\\Python311\\;C:\\Users\\Ilya\\AppData\\Local\\Microsoft\\WindowsApps;C:\\Program Files\\JetBrains\\PyCharm Community Edition 2023.3.3\\bin;C:\\Program Files\\Azure Data Studio\\bin;C:\\Users\\Ilya\\AppData\\Local\\gitkraken\\bin;C:\\Users\\Ilya\\anaconda3\\Library\\bin\\;C:\\Users\\Ilya\\anaconda3\\Scripts\\;C:\\Users\\Ilya\\anaconda3\\condabin\\;\n",
      "PATHEXT: .COM;.EXE;.BAT;.CMD;.VBS;.VBE;.JS;.JSE;.WSF;.WSH;.MSC\n",
      "PGDATA: C:\\Program Files\\PostgreSQL\\16\\data\n",
      "PGDATABASE: postgres\n",
      "PGLOCALEDIR: C:\\Program Files\\PostgreSQL\\16\\share\\locale\\\n",
      "PGPORT: 5432\n",
      "PGUSER: postgres\n",
      "PROCESSOR_ARCHITECTURE: AMD64\n",
      "PROCESSOR_IDENTIFIER: AMD64 Family 25 Model 68 Stepping 1, AuthenticAMD\n",
      "PROCESSOR_LEVEL: 25\n",
      "PROCESSOR_REVISION: 4401\n",
      "PROGRAMDATA: C:\\ProgramData\n",
      "PROGRAMFILES: C:\\Program Files\n",
      "PROGRAMFILES(X86): C:\\Program Files (x86)\n",
      "PROGRAMW6432: C:\\Program Files\n",
      "PSMODULEPATH: C:\\Program Files\\WindowsPowerShell\\Modules;C:\\Windows\\system32\\WindowsPowerShell\\v1.0\\Modules;C:\\Program Files (x86)\\Microsoft SQL Server\\160\\Tools\\PowerShell\\Modules\\\n",
      "PUBLIC: C:\\Users\\Public\n",
      "PYCHARM COMMUNITY EDITION: C:\\Program Files\\JetBrains\\PyCharm Community Edition 2023.3.3\\bin;\n",
      "SESSIONNAME: Console\n",
      "SYSTEMDRIVE: C:\n",
      "SYSTEMROOT: C:\\Windows\n",
      "TEMP: C:\\Users\\Ilya\\AppData\\Local\\Temp\n",
      "TMP: C:\\Users\\Ilya\\AppData\\Local\\Temp\n",
      "USERDOMAIN: DESKTOP-I6POBR3\n",
      "USERDOMAIN_ROAMINGPROFILE: DESKTOP-I6POBR3\n",
      "USERNAME: Ilya\n",
      "USERPROFILE: C:\\Users\\Ilya\n",
      "WINDIR: C:\\Windows\n",
      "CONDA_PREFIX: C:\\Users\\Ilya\\anaconda3\n",
      "PYDEVD_USE_FRAME_EVAL: NO\n",
      "JPY_INTERRUPT_EVENT: 4228\n",
      "IPY_INTERRUPT_EVENT: 4228\n",
      "JPY_PARENT_PID: 4372\n",
      "TERM: xterm-color\n",
      "CLICOLOR: 1\n",
      "FORCE_COLOR: 1\n",
      "CLICOLOR_FORCE: 1\n",
      "PAGER: cat\n",
      "GIT_PAGER: cat\n",
      "MPLBACKEND: module://matplotlib_inline.backend_inline\n"
     ]
    }
   ],
   "source": [
    "print(\"Переменные окружения:\")\n",
    "for key, value in os.environ.items():\n",
    "    print(f\"{key}: {value}\")"
   ]
  },
  {
   "cell_type": "markdown",
   "id": "abb81364",
   "metadata": {},
   "source": [
    "# Упражнение 5. Многопоточность и асинхронное программирование"
   ]
  },
  {
   "cell_type": "markdown",
   "id": "ff4dd2d3",
   "metadata": {},
   "source": [
    "*Пример многопоточного выполнения задач. Написать скрипт, который запускает несколько потоков для выполнения функции, которая симулирует длительную задачу (например, ожидание с использованием time.sleep()).\n",
    "\n",
    "*Асинхронное программирование с использованием asyncio. Написать асинхронный скрипт для выполнения и ожидания результатов нескольких асинхронных операций (например, асинхронных HTTP-запросов)."
   ]
  },
  {
   "cell_type": "code",
   "execution_count": 26,
   "id": "9a2176e7",
   "metadata": {},
   "outputs": [],
   "source": [
    "import threading, time"
   ]
  },
  {
   "cell_type": "code",
   "execution_count": 27,
   "id": "5d5c142d",
   "metadata": {},
   "outputs": [],
   "source": [
    "def task(name):\n",
    "    print(f\"Задача {name} началась\\n\")\n",
    "    time.sleep(2)\n",
    "    print(f\"\\nЗадача {name} завершена\")"
   ]
  },
  {
   "cell_type": "code",
   "execution_count": 28,
   "id": "36639e9e",
   "metadata": {},
   "outputs": [
    {
     "name": "stdout",
     "output_type": "stream",
     "text": [
      "Задача Поток 1 началась\n",
      "\n",
      "Задача Поток 2 началась\n",
      "\n",
      "Задача Поток 3 началась\n",
      "\n",
      "Задача Поток 4 началась\n",
      "\n",
      "Задача Поток 5 началась\n",
      "\n",
      "\n",
      "Задача Поток 3 завершена\n",
      "\n",
      "Задача Поток 4 завершена\n",
      "\n",
      "Задача Поток 5 завершена\n",
      "\n",
      "Задача Поток 2 завершена\n",
      "\n",
      "Задача Поток 1 завершена\n"
     ]
    }
   ],
   "source": [
    "for i in range(5):\n",
    "    t = threading.Thread(target=task, args=(f\"Поток {i+1}\",))\n",
    "    t.start()"
   ]
  },
  {
   "cell_type": "code",
   "execution_count": 29,
   "id": "31b13291",
   "metadata": {},
   "outputs": [],
   "source": [
    "import asyncio"
   ]
  },
  {
   "cell_type": "code",
   "execution_count": 30,
   "id": "96625bb7",
   "metadata": {},
   "outputs": [],
   "source": [
    "async def async_task(name):\n",
    "    print(f\"Асинхронная задача {name} началась\")\n",
    "    await asyncio.sleep(2)\n",
    "    print(f\"Асинхронная задача {name} завершена\")"
   ]
  },
  {
   "cell_type": "code",
   "execution_count": 31,
   "id": "1896b332",
   "metadata": {},
   "outputs": [
    {
     "name": "stdout",
     "output_type": "stream",
     "text": [
      "Асинхронная задача Задача 1 началась\n",
      "Асинхронная задача Задача 2 началась\n",
      "Асинхронная задача Задача 3 началась\n",
      "Асинхронная задача Задача 4 началась\n",
      "Асинхронная задача Задача 5 началась\n",
      "Асинхронная задача Задача 1 завершена\n",
      "Асинхронная задача Задача 3 завершена\n",
      "Асинхронная задача Задача 5 завершена\n",
      "Асинхронная задача Задача 2 завершена\n",
      "Асинхронная задача Задача 4 завершена\n"
     ]
    }
   ],
   "source": [
    "tasks = [asyncio.create_task(async_task(f\"Задача {i+1}\")) for i in range(5)]"
   ]
  },
  {
   "cell_type": "code",
   "execution_count": 32,
   "id": "8e434524",
   "metadata": {},
   "outputs": [
    {
     "name": "stdout",
     "output_type": "stream",
     "text": [
      "Асинхронная задача Задача 1 началась\n",
      "Асинхронная задача Задача 2 началась\n",
      "Асинхронная задача Задача 3 началась\n",
      "Асинхронная задача Задача 4 началась\n",
      "Асинхронная задача Задача 5 началась\n",
      "Асинхронная задача Задача 1 завершена\n",
      "Асинхронная задача Задача 3 завершена\n",
      "Асинхронная задача Задача 5 завершена\n",
      "Асинхронная задача Задача 2 завершена\n",
      "Асинхронная задача Задача 4 завершена\n"
     ]
    }
   ],
   "source": [
    "async def main():\n",
    "    await asyncio.gather(*(async_task(f\"Задача {i+1}\") for i in range(5)))\n",
    "\n",
    "await main()"
   ]
  },
  {
   "cell_type": "code",
   "execution_count": null,
   "id": "3138b49e",
   "metadata": {},
   "outputs": [],
   "source": []
  }
 ],
 "metadata": {
  "kernelspec": {
   "display_name": "GPU",
   "language": "python",
   "name": "gpu_1"
  },
  "language_info": {
   "codemirror_mode": {
    "name": "ipython",
    "version": 3
   },
   "file_extension": ".py",
   "mimetype": "text/x-python",
   "name": "python",
   "nbconvert_exporter": "python",
   "pygments_lexer": "ipython3",
   "version": "3.9.19"
  }
 },
 "nbformat": 4,
 "nbformat_minor": 5
}
